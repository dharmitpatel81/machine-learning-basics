{
 "cells": [
  {
   "cell_type": "markdown",
   "metadata": {},
   "source": [
    "Feature Engineering"
   ]
  },
  {
   "cell_type": "code",
   "execution_count": null,
   "metadata": {},
   "outputs": [],
   "source": [
    "\"\"\"\n",
    "Feature engineering is an important area in the field of machine learning and data analysis. It helps in data cleaning process where data scientists and analysts spend most of their time on.\n",
    "\n",
    "In short, Feature engineering is a process of extracting useful features from raw data using maths, statistics, and domain knowledge.\n",
    "\n",
    "Here are few examples of feature engineering techniques,\n",
    "    1) Outlier detection and removal\n",
    "    2) One hot encoding\n",
    "    3) Log transform\n",
    "    4) Dimensionality reduction using principal component analysis (a.k.a. PCA)\n",
    "    5) Handling missing values \n",
    "    6) Scaling\n",
    "\n",
    "In this video we will understand what is feature engineering by going over simple house price prediction example.  \n",
    "\"\"\""
   ]
  }
 ],
 "metadata": {
  "language_info": {
   "name": "python"
  }
 },
 "nbformat": 4,
 "nbformat_minor": 2
}
